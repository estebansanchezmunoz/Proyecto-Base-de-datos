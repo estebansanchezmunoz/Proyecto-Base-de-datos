{
  "cells": [
    {
      "cell_type": "markdown",
      "metadata": {
        "id": "view-in-github",
        "colab_type": "text"
      },
      "source": [
        "<a href=\"https://colab.research.google.com/github/estebansanchezmunoz/Proyecto-Base-de-datos/blob/main/project_gaia_db.ipynb\" target=\"_parent\"><img src=\"https://colab.research.google.com/assets/colab-badge.svg\" alt=\"Open In Colab\"/></a>"
      ]
    },
    {
      "cell_type": "markdown",
      "id": "10093b7d",
      "metadata": {
        "id": "10093b7d"
      },
      "source": [
        "# Proyecto Estructura y Bases de Datos\n",
        "\n",
        "*   Antonia Morales\n",
        "*   Ángel Paisano\n",
        "*   Martín Raffo\n",
        "*   Esteban Sánchez\n",
        "\n",
        "\n",
        "\n"
      ]
    },
    {
      "cell_type": "markdown",
      "source": [
        "# Primera descripción\n",
        "\n",
        "En el presente proyecto se utiliza la API astroquery para cargar los datos de Gaia usando ADQL (Astronomical Data Query Language) que es el lenguaje que usa Gaia; este es idéntico a SQL, que fue visto en clases, pero con funciones integradas para trabajar datos astronómicos. En principio los datos se almacenan en una tabla astropy, y luego son transformados a dataframes de Pandas para hacerlos accesibles, para posteriormente ser llevados a una base de datos SQL.\n",
        "\n"
      ],
      "metadata": {
        "id": "DCLBB-4UecpH"
      },
      "id": "DCLBB-4UecpH"
    },
    {
      "cell_type": "markdown",
      "source": [
        "# Gaia"
      ],
      "metadata": {
        "id": "MMftDP62iRv0"
      },
      "id": "MMftDP62iRv0"
    },
    {
      "cell_type": "code",
      "source": [
        "#Instalando astroquery\n",
        "!pip install astroquery"
      ],
      "metadata": {
        "id": "9WlLpIXOoOYp"
      },
      "id": "9WlLpIXOoOYp",
      "execution_count": null,
      "outputs": []
    },
    {
      "cell_type": "code",
      "execution_count": null,
      "id": "46a07f9a",
      "metadata": {
        "id": "46a07f9a"
      },
      "outputs": [],
      "source": [
        "#Se importan librerías\n",
        "from astroquery.gaia import Gaia\n",
        "import sqlite3\n",
        "import pandas as pd\n",
        "import matplotlib.pyplot as plt"
      ]
    },
    {
      "cell_type": "code",
      "source": [
        "#Se aumenta el timeout para que pueda correr tranquilamente el código\n",
        "Gaia.TIMEOUT = 1e6"
      ],
      "metadata": {
        "id": "FcKEn0Jk0kuH"
      },
      "id": "FcKEn0Jk0kuH",
      "execution_count": null,
      "outputs": []
    },
    {
      "cell_type": "code",
      "execution_count": null,
      "id": "5fdcf57d",
      "metadata": {
        "id": "5fdcf57d"
      },
      "outputs": [],
      "source": [
        "#Se cargan las tablas\n",
        "tables = Gaia.load_tables(only_names=True)"
      ]
    },
    {
      "cell_type": "code",
      "execution_count": null,
      "id": "3715d453",
      "metadata": {
        "id": "3715d453"
      },
      "outputs": [],
      "source": [
        "#Imprimir nombres de tablas\n",
        "for table in tables:\n",
        "    print(table.name)"
      ]
    },
    {
      "cell_type": "markdown",
      "source": [
        "## ADQL\n",
        "La muestra de la gran nube de magallanes (siglas en inglés: LMC) se obtiene usando una selección con un radio de 20° con $α,δ$ (81.28°,-67.78°). El trabajo se enfocará en esta región del cielo para procesar datos de la galaxia anteriormente mencionada, estudiando las posiciones en el cielo de las fuentes astronómicas (sources), sus movimientos propios, y las magnitudes en distintos filtros. Este paso está basado en el artículo científico de Luri et al (2021) que se dedica a seleccionar datos de Gaia EDR3 en la región de la LMC.\n",
        "\n",
        "Después de hacer las consultas pertinentes en Gaia DR2 y DR3 para obtener los datos de las fuentes en las Nubes de Magallanes, se guardan los resultados en tablas de Astropy."
      ],
      "metadata": {
        "id": "HWfqZ7UHpnrH"
      },
      "id": "HWfqZ7UHpnrH"
    },
    {
      "cell_type": "code",
      "source": [
        "# Consulta a Gaia y conversión\n",
        "job0 = Gaia.launch_job_async(\"\"\"SELECT TOP 100000 source_id, ra, dec, parallax, pmra, pmdec, phot_g_mean_mag, phot_bp_mean_mag,\n",
        "                      phot_rp_mean_mag FROM gaiadr2.gaia_source\n",
        "                      WHERE DISTANCE(POINT(81.28, -69.78),POINT(ra, dec)) < 20\n",
        "                      AND gaiadr2.gaia_source.parallax IS NOT NULL\"\"\")\n",
        "tabla_gaiadr2 = job0.get_results()  # Resultado en formato Table de Astropy"
      ],
      "metadata": {
        "id": "u2N8jkLii6qp"
      },
      "id": "u2N8jkLii6qp",
      "execution_count": null,
      "outputs": []
    },
    {
      "cell_type": "code",
      "source": [
        "tabla_gaiadr2"
      ],
      "metadata": {
        "id": "ln7QnGnIpG9H"
      },
      "id": "ln7QnGnIpG9H",
      "execution_count": null,
      "outputs": []
    },
    {
      "cell_type": "code",
      "source": [
        "# Consulta a Gaia y conversión EDR3\n",
        "job1 = Gaia.launch_job(\"\"\"SELECT TOP 100000 source_id, ra, dec, parallax, pmra, pmdec, phot_g_mean_mag, phot_bp_mean_mag,\n",
        "                      phot_rp_mean_mag FROM gaiadr3.gaia_source\n",
        "                      WHERE DISTANCE(POINT(81.28, -69.78),POINT(ra, dec)) < 20\n",
        "                      AND gaiadr3.gaia_source.parallax IS NOT NULL\"\"\")\n",
        "tabla_gaiadr3 = job1.get_results()  # Resultado en formato Table de Astropy"
      ],
      "metadata": {
        "id": "71ohHZXXu-bz"
      },
      "id": "71ohHZXXu-bz",
      "execution_count": null,
      "outputs": []
    },
    {
      "cell_type": "code",
      "source": [
        "tabla_gaiadr3"
      ],
      "metadata": {
        "id": "94iWYZAOvGM6"
      },
      "id": "94iWYZAOvGM6",
      "execution_count": null,
      "outputs": []
    },
    {
      "cell_type": "markdown",
      "source": [
        "## Pandas\n",
        "\n",
        "Ya teniendo las tablas de Astropy, se transforman a Dataframes de Pandas para eventualmente poblar con éstas una base de datos SQL.\n"
      ],
      "metadata": {
        "id": "v8rXVkmpsEFc"
      },
      "id": "v8rXVkmpsEFc"
    },
    {
      "cell_type": "code",
      "source": [
        "df_gaiadr2= tabla_gaiadr2.to_pandas()\n",
        "df_gaiadr2= df_gaiadr2.rename(columns={\"SOURCE_ID\": \"source_id\"})"
      ],
      "metadata": {
        "id": "mpQCJumTitrv"
      },
      "id": "mpQCJumTitrv",
      "execution_count": null,
      "outputs": []
    },
    {
      "cell_type": "code",
      "source": [
        "df_gaiadr2"
      ],
      "metadata": {
        "id": "Rraqx8w1qYAV"
      },
      "id": "Rraqx8w1qYAV",
      "execution_count": null,
      "outputs": []
    },
    {
      "cell_type": "code",
      "source": [
        "df_gaiadr3= tabla_gaiadr3.to_pandas()\n",
        "df_gaiedr3= df_gaiadr3.rename(columns={\"SOURCE_ID\": \"source_id\"})"
      ],
      "metadata": {
        "id": "DRsBo3f4y0T0"
      },
      "id": "DRsBo3f4y0T0",
      "execution_count": null,
      "outputs": []
    },
    {
      "cell_type": "code",
      "source": [
        "df_gaiadr3"
      ],
      "metadata": {
        "id": "ZFXgFNAfy3x8"
      },
      "id": "ZFXgFNAfy3x8",
      "execution_count": null,
      "outputs": []
    },
    {
      "cell_type": "markdown",
      "source": [
        "# SQL\n",
        "\n",
        "Acto seguido, se define una función que permitirá la elaboración de tablas tipo SQL a partir de los Dataframes resultantes del paso anterior. Dicha función es ejecutada para DR2 y DR3, a fin de poder realizar consultas y gráficos."
      ],
      "metadata": {
        "id": "PlNgl-cHiwUL"
      },
      "id": "PlNgl-cHiwUL"
    },
    {
      "cell_type": "code",
      "source": [
        "# Función para crear las tablas de gaia\n",
        "def crear_tabla(tabla, nombre_tabla, db_name):\n",
        "  \"\"\"\n",
        "  Esta función construye...\n",
        "\n",
        "  \"\"\"\n",
        "  db = sqlite3.connect(db_name)\n",
        "  cur = db.cursor()\n",
        "\n",
        "  ############################\n",
        "\n",
        "  cur.execute(f\"\"\"\n",
        "        CREATE TABLE {nombre_tabla} (\n",
        "            source_id INTEGER PRIMARY KEY AUTOINCREMENT,\n",
        "            ra REAL,\n",
        "            dec REAL,\n",
        "            parallax REAL,\n",
        "            pmra REAL,\n",
        "            pmdec REAL,\n",
        "            phot_g_mean_mag REAL,\n",
        "            phot_bp_mean_mag REAL,\n",
        "            phot_rp_mean_mag REAL\n",
        "        );\n",
        "    \"\"\")\n",
        "\n",
        "  ####################################################\n",
        "  for i, row in tabla.iterrows():\n",
        "        cur.execute(f\"\"\"\n",
        "            INSERT OR IGNORE INTO {nombre_tabla} (source_id, ra, dec, parallax, pmra, pmdec, phot_g_mean_mag, phot_bp_mean_mag, phot_rp_mean_mag)\n",
        "            VALUES (?, ?, ?, ?, ?, ?, ?, ? ,?);\n",
        "        \"\"\", (row['source_id'], row['ra'], row['dec'], row['parallax'], row['pmra'], row['pmdec'], row['phot_g_mean_mag'], row['phot_bp_mean_mag'], row['phot_rp_mean_mag']))\n",
        "\n",
        "  db.commit()\n",
        "\n",
        "  # Verificación:\n",
        "  res = cur.execute(f\"PRAGMA table_info({nombre_tabla})\")\n",
        "  if res.fetchall() != []:\n",
        "    print(\"Tabla creada correctamente\")\n",
        "    print(res.fetchall())\n",
        "  else:\n",
        "    print(\"Error al crear la tabla\")\n",
        "\n",
        "  db.close()"
      ],
      "metadata": {
        "id": "tcRRIcz9iuuJ"
      },
      "id": "tcRRIcz9iuuJ",
      "execution_count": null,
      "outputs": []
    },
    {
      "cell_type": "code",
      "source": [
        "#Creación de tablas con la función\n",
        "\n",
        "crear_tabla(df_gaiadr2, 'gaiadr2', 'gaiadr2.db')"
      ],
      "metadata": {
        "id": "cfD66bHsjLJ6"
      },
      "id": "cfD66bHsjLJ6",
      "execution_count": null,
      "outputs": []
    },
    {
      "cell_type": "code",
      "source": [
        "crear_tabla(df_gaiadr2, 'gaiadr3', 'gaiadr3.db')"
      ],
      "metadata": {
        "id": "7TIN0Uqp2ZGC"
      },
      "id": "7TIN0Uqp2ZGC",
      "execution_count": null,
      "outputs": []
    },
    {
      "cell_type": "markdown",
      "source": [
        "# Querys SQL\n",
        "\n"
      ],
      "metadata": {
        "id": "-tukL3e9iyqX"
      },
      "id": "-tukL3e9iyqX"
    },
    {
      "cell_type": "code",
      "source": [
        "db = sqlite3.connect('gaiadr2.db')\n",
        "cur = db.cursor()\n",
        "cur.execute(\"ATTACH DATABASE 'gaiadr3.db' AS gaiadr3;\")"
      ],
      "metadata": {
        "id": "tNO_83uqwNlf"
      },
      "id": "tNO_83uqwNlf",
      "execution_count": null,
      "outputs": []
    },
    {
      "cell_type": "code",
      "source": [
        "res = cur.execute(f\"\"\"PRAGMA table_info(gaiadr2)\"\"\")\n",
        "res.fetchall()"
      ],
      "metadata": {
        "id": "PFO7hXq2i2Af"
      },
      "id": "PFO7hXq2i2Af",
      "execution_count": null,
      "outputs": []
    },
    {
      "cell_type": "code",
      "source": [
        "query1= cur.execute(f\"\"\"SELECT COUNT(*) FROM gaiadr2\"\"\")\n",
        "query1.fetchall()"
      ],
      "metadata": {
        "id": "0o2KxIfnrfw1"
      },
      "id": "0o2KxIfnrfw1",
      "execution_count": null,
      "outputs": []
    },
    {
      "cell_type": "code",
      "source": [
        "query2= cur.execute(f\"\"\"SELECT COUNT(*) FROM\n",
        "                      (SELECT gaiadr2.source_id AS source_id_gaiadr2,\n",
        "                      gaiadr3.source_id AS source_id_gaiadr3 FROM gaiadr2\n",
        "                      JOIN gaiadr3 ON gaiadr2.source_id=gaiadr3.source_id)\"\"\")\n",
        "query2.fetchall()"
      ],
      "metadata": {
        "id": "UrO5hAQ2UktJ"
      },
      "id": "UrO5hAQ2UktJ",
      "execution_count": null,
      "outputs": []
    },
    {
      "cell_type": "code",
      "source": [
        "query3= cur.execute(f\"\"\"SELECT ROW_NUMBER() OVER(ORDER BY gaiadr2.source_id) AS row_number,\n",
        "                          gaiadr2.source_id AS source_id_gaiadr2,\n",
        "                          gaiadr3.source_id AS source_id_gaiadr3\n",
        "                        FROM gaiadr2\n",
        "                        JOIN gaiadr3\n",
        "                        ON gaiadr2.source_id = gaiadr3.source_id;\"\"\")\n",
        "\n",
        "rows = query3.fetchall()\n",
        "for row in rows:\n",
        "    print(f\"Numero de Columna: {row[0]}, GAIADR2 Source ID: {row[1]}, GAIADR3 Source ID: {row[2]}\")"
      ],
      "metadata": {
        "id": "MXQxmqJbUoRN"
      },
      "id": "MXQxmqJbUoRN",
      "execution_count": null,
      "outputs": []
    },
    {
      "cell_type": "code",
      "source": [
        "query4 = cur.execute(\"\"\"SELECT COUNT(*) AS n FROM (SELECT gaiadr2.source_id, gaiadr2.phot_rp_mean_mag FROM gaiadr2\n",
        "                        JOIN gaiadr3 ON gaiadr2.source_id = gaiadr3.source_id\n",
        "                        WHERE gaiadr2.phot_rp_mean_mag < 20)\"\"\")\n",
        "query4.fetchall()"
      ],
      "metadata": {
        "id": "r7YRyEJhUvT2"
      },
      "id": "r7YRyEJhUvT2",
      "execution_count": null,
      "outputs": []
    },
    {
      "cell_type": "markdown",
      "source": [
        "# Gráficos"
      ],
      "metadata": {
        "id": "7AMuHx_Fi2wH"
      },
      "id": "7AMuHx_Fi2wH"
    },
    {
      "cell_type": "code",
      "source": [
        "plt.style.use('dark_background')"
      ],
      "metadata": {
        "id": "4Ap29a82xgmN"
      },
      "id": "4Ap29a82xgmN",
      "execution_count": null,
      "outputs": []
    },
    {
      "cell_type": "code",
      "source": [
        "# Histograma de ...\n",
        "nan_count_g = df_gaiadr2['phot_g_mean_mag'].isna().sum()\n",
        "print(nan_count_g)\n",
        "nan_count_bp = df_gaiadr2['phot_bp_mean_mag'].isna().sum()\n",
        "print(nan_count_bp)\n",
        "\n",
        "plt.hist(df_gaiadr2['phot_bp_mean_mag'],bins=100)\n",
        "plt.xlim(16,24)\n",
        "plt.axvline(20,color='red',linestyle='--')\n",
        "plt.xlabel('Magnitud BP')\n",
        "plt.ylabel('Frecuencia')\n",
        "plt.show()"
      ],
      "metadata": {
        "id": "3p-QWJdjWgBb"
      },
      "id": "3p-QWJdjWgBb",
      "execution_count": null,
      "outputs": []
    },
    {
      "cell_type": "code",
      "source": [
        "\n",
        "#Variables que utilizaremos para graficar\n",
        "ra= df_gaiadr3['ra']\n",
        "dec= df_gaiadr3['dec']\n",
        "pmra= df_gaiadr3['pmra']\n",
        "pmdec= df_gaiadr3['pmdec']\n",
        "mag_bp= df_gaiadr3['phot_bp_mean_mag']\n",
        "mag_rp= df_gaiadr3['phot_rp_mean_mag']\n",
        "mag_g= df_gaiadr3['phot_g_mean_mag']\n"
      ],
      "metadata": {
        "id": "RmcXwaWazmq1"
      },
      "id": "RmcXwaWazmq1",
      "execution_count": null,
      "outputs": []
    },
    {
      "cell_type": "code",
      "source": [
        "fig = plt.figure(figsize=(14,6))\n",
        "#fig.subplots_adjust(left=0.1, bottom=0.1, top=0.97, right =0.97)\n",
        "\n",
        "ax1 = fig.add_subplot(121)\n",
        "\n",
        "ax1.scatter(ra, dec, c='cyan', marker='*',s=1, edgecolors= \"none\") #c=brillo, cmap='plasma',s=(1/brillo)*40)\n",
        "ax1.scatter(81.28, -69.78, marker=\"+\", facecolor=\"red\",label='Centro aparente', s=40)\n",
        "ax1.set_xlabel(\"RA\")\n",
        "ax1.set_ylabel(\"DEC\")\n",
        "ax1.set_title(\" ra vs dec de la Gran Nube de Magallanes\")\n",
        "ax1.grid(ls='--', alpha=0.3)\n",
        "ax1.legend()\n",
        "\n",
        "ax2= fig.add_subplot(122)\n",
        "\n",
        "ax2.scatter(pmra, pmdec, c='cyan', marker='*',s=1, edgecolors= \"none\") #c=brillo, cmap='plasma',s=(1/brillo)*40)\n",
        "ax2.set_xlabel(\"pmra\")\n",
        "ax2.set_ylabel(\"pmdec\")\n",
        "ax2.set_title(\"pmra vs pmdec de la Gran Nube de Magallanes\")\n",
        "ax2.grid(ls='--', alpha=0.3)\n",
        "\n",
        "plt.show()"
      ],
      "metadata": {
        "id": "8xxyKZ2asCh0"
      },
      "id": "8xxyKZ2asCh0",
      "execution_count": null,
      "outputs": []
    },
    {
      "cell_type": "markdown",
      "source": [
        "## Diagrama color magnitud test\n",
        "BP-RP vs G"
      ],
      "metadata": {
        "id": "pt6mQfUcz3AC"
      },
      "id": "pt6mQfUcz3AC"
    },
    {
      "cell_type": "code",
      "source": [
        "#añadir errorbars y colorbars\n",
        "\n",
        "fig = plt.figure(1,figsize=(6,6))\n",
        "ax1= fig.add_subplot(111)\n",
        "ax1.scatter(mag_bp - mag_rp, mag_g,c='darkred',marker='*',s=10, edgecolors= \"none\") #c=brillo, cmap='plasma',s=(1/brillo)*40)\n",
        "#ax1.scatter((mag_bp-mag_rp)[i], mag_g[i],marker=\"*\",edgecolor=\"none\", facecolor=\"red\",s=10)\n",
        "ax1.set_xlabel(\"BP-RP\")\n",
        "ax1.set_ylabel(\"G\")\n",
        "ax1.set_title(\"Diagrama color magnitud Gran Nubre de Magallanes\")\n",
        "ax1.grid(ls='--', alpha=0.3)\n",
        "#plt.ylim(16,21.5)\n",
        "plt.gca().invert_yaxis()\n",
        "\n",
        "plt.show()"
      ],
      "metadata": {
        "id": "C7i5tuWLz39b"
      },
      "id": "C7i5tuWLz39b",
      "execution_count": null,
      "outputs": []
    }
  ],
  "metadata": {
    "kernelspec": {
      "display_name": "Python 3 (ipykernel)",
      "language": "python",
      "name": "python3"
    },
    "language_info": {
      "codemirror_mode": {
        "name": "ipython",
        "version": 3
      },
      "file_extension": ".py",
      "mimetype": "text/x-python",
      "name": "python",
      "nbconvert_exporter": "python",
      "pygments_lexer": "ipython3",
      "version": "3.11.5"
    },
    "colab": {
      "provenance": [],
      "include_colab_link": true
    }
  },
  "nbformat": 4,
  "nbformat_minor": 5
}