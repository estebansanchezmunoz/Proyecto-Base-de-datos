{
  "cells": [
    {
      "cell_type": "markdown",
      "id": "10093b7d",
      "metadata": {
        "id": "10093b7d"
      },
      "source": [
        "# Proyecto Estructura y Bases de Datos\n",
        "\n",
        "*   Antonia Morales\n",
        "*   Ángel Paisano\n",
        "*   Martín Raffo\n",
        "*   Esteban Sánchez\n",
        "\n",
        "\n",
        "\n"
      ]
    },
    {
      "cell_type": "markdown",
      "id": "DCLBB-4UecpH",
      "metadata": {
        "id": "DCLBB-4UecpH"
      },
      "source": [
        "# Primera descripción\n",
        "\n",
        "En el presente proyecto se utiliza la API astroquery para cargar los datos de Gaia usando ADQL (Astronomical Data Query Language) que es el lenguaje que usa Gaia; este es idéntico a SQL, que fue visto en clases, pero con funciones integradas para trabajar datos astronómicos. En principio los datos se almacenan en una tabla astropy, y luego son transformados a dataframes de Pandas para hacerlos accesibles. Finalmente, a partir de los dataframes, se crean tablas en SQL y se realizan diversas consultas con la información contenida en ellas, junto con gráficos que contribuyen a la interpretación de los datos en su contexto.\n",
        "\n",
        "Para el proyecto, es conveniente trabajar con SQL debido a la naturaleza de los datos: éstos son homogéneos, fácilmente organizables en tablas de tipo relacional y no variables en el tiempo. Cabe destacar que, si bien TaQL también es utilizado para bases de datos relacionales, tampoco es una elección adecuada en este contexto, puesto que su enfoque es trabajar información proveniente de observaciones en radio, mientras que los datos de Gaia se encuentran en la banda del óptico.\n"
      ]
    },
    {
      "cell_type": "markdown",
      "id": "MMftDP62iRv0",
      "metadata": {
        "id": "MMftDP62iRv0"
      },
      "source": [
        "# Gaia"
      ]
    },
    {
      "cell_type": "code",
      "execution_count": null,
      "id": "9WlLpIXOoOYp",
      "metadata": {
        "colab": {
          "background_save": true
        },
        "id": "9WlLpIXOoOYp"
      },
      "outputs": [],
      "source": [
        "#Instalando astroquery\n",
        "!pip install astroquery"
      ]
    },
    {
      "cell_type": "code",
      "execution_count": null,
      "id": "46a07f9a",
      "metadata": {
        "colab": {
          "background_save": true
        },
        "id": "46a07f9a"
      },
      "outputs": [],
      "source": [
        "#Se importan librerías\n",
        "from astroquery.gaia import Gaia\n",
        "import sqlite3\n",
        "import pandas as pd\n",
        "import matplotlib.pyplot as plt"
      ]
    },
    {
      "cell_type": "code",
      "execution_count": null,
      "id": "FcKEn0Jk0kuH",
      "metadata": {
        "colab": {
          "background_save": true
        },
        "id": "FcKEn0Jk0kuH"
      },
      "outputs": [],
      "source": [
        "#Se aumenta el timeout para que pueda correr tranquilamente el código\n",
        "Gaia.TIMEOUT = 1e6"
      ]
    },
    {
      "cell_type": "code",
      "execution_count": null,
      "id": "5fdcf57d",
      "metadata": {
        "colab": {
          "background_save": true
        },
        "id": "5fdcf57d"
      },
      "outputs": [],
      "source": [
        "#Se cargan las tablas\n",
        "tables = Gaia.load_tables(only_names=True)"
      ]
    },
    {
      "cell_type": "code",
      "execution_count": null,
      "id": "3715d453",
      "metadata": {
        "colab": {
          "background_save": true
        },
        "id": "3715d453"
      },
      "outputs": [],
      "source": [
        "#Imprimir nombres de tablas\n",
        "for table in tables:\n",
        "    print(table.name)"
      ]
    },
    {
      "cell_type": "markdown",
      "id": "HWfqZ7UHpnrH",
      "metadata": {
        "id": "HWfqZ7UHpnrH"
      },
      "source": [
        "## ADQL\n",
        "La muestra de la gran nube de magallanes (siglas en inglés: LMC) se obtiene usando una selección con un radio de 20° con $α,δ$ (81.28°,-67.78°). El trabajo se enfocará en esta región del cielo para procesar datos de la galaxia anteriormente mencionada, estudiando las posiciones en el cielo de las fuentes astronómicas (sources), sus movimientos propios, y las magnitudes en distintos filtros. Este paso está basado en el artículo científico de Luri et al (2021) que se dedica a seleccionar datos de Gaia EDR3 en la región de la LMC.\n",
        "\n",
        "Después de hacer las consultas pertinentes en Gaia DR2 y DR3 para obtener los datos de las fuentes en las Nubes de Magallanes, se guardan los resultados en tablas de Astropy."
      ]
    },
    {
      "cell_type": "code",
      "execution_count": null,
      "id": "u2N8jkLii6qp",
      "metadata": {
        "id": "u2N8jkLii6qp"
      },
      "outputs": [],
      "source": [
        "# Consulta a Gaia y conversión\n",
        "job0 = Gaia.launch_job_async(\"\"\"SELECT TOP 100000 source_id, ra, dec, parallax, pmra, pmdec, phot_g_mean_mag, phot_bp_mean_mag,\n",
        "                      phot_rp_mean_mag FROM gaiadr2.gaia_source\n",
        "                      WHERE DISTANCE(POINT(81.28, -69.78), POINT(ra, dec)) < 20\n",
        "                      AND gaiadr2.gaia_source.parallax IS NOT NULL\"\"\")\n",
        "tabla_gaiadr2 = job0.get_results()  # Resultado en formato Table de Astropy"
      ]
    },
    {
      "cell_type": "code",
      "execution_count": null,
      "id": "ln7QnGnIpG9H",
      "metadata": {
        "id": "ln7QnGnIpG9H"
      },
      "outputs": [],
      "source": [
        "tabla_gaiadr2"
      ]
    },
    {
      "cell_type": "code",
      "source": [
        "#Obtención de RUWE para Gaia DR2\n",
        "job1 = Gaia.launch_job_async(\"\"\"SELECT TOP 100000 gaiadr2.gaia_source.source_id, gaiadr2.ruwe.ruwe\n",
        "                            FROM gaiadr2.ruwe JOIN gaiadr2.gaia_source\n",
        "                            ON gaiadr2.ruwe.source_id = gaiadr2.gaia_source.source_id\n",
        "                            WHERE DISTANCE(POINT(81.28, -69.78),POINT(ra, dec)) < 20\n",
        "                            AND gaiadr2.gaia_source.parallax IS NOT NULL\"\"\")\n",
        "\n",
        "tabla_ruwe_dr2 = job1.get_results()\n",
        "\n",
        "tabla_ruwe_dr2"
      ],
      "metadata": {
        "id": "_ENEMvc9-e1U"
      },
      "id": "_ENEMvc9-e1U",
      "execution_count": null,
      "outputs": []
    },
    {
      "cell_type": "code",
      "execution_count": null,
      "id": "71ohHZXXu-bz",
      "metadata": {
        "id": "71ohHZXXu-bz"
      },
      "outputs": [],
      "source": [
        "# Consulta a Gaia y conversión DR3\n",
        "job2 = Gaia.launch_job_async(\"\"\"SELECT TOP 100000 source_id, ra, dec, parallax, pmra, pmdec, phot_g_mean_mag, phot_bp_mean_mag,\n",
        "                      phot_rp_mean_mag, ruwe FROM gaiadr3.gaia_source\n",
        "                      WHERE DISTANCE(POINT(81.28, -69.78),POINT(ra, dec)) < 20\n",
        "                      AND gaiadr3.gaia_source.parallax IS NOT NULL\"\"\")\n",
        "tabla_gaiadr3 = job2.get_results()  # Resultado en formato Table de Astropy"
      ]
    },
    {
      "cell_type": "code",
      "execution_count": null,
      "id": "94iWYZAOvGM6",
      "metadata": {
        "id": "94iWYZAOvGM6"
      },
      "outputs": [],
      "source": [
        "tabla_gaiadr3"
      ]
    },
    {
      "cell_type": "markdown",
      "id": "v8rXVkmpsEFc",
      "metadata": {
        "id": "v8rXVkmpsEFc"
      },
      "source": [
        "## Pandas\n",
        "\n",
        "Ya teniendo las tablas de Astropy, se transforman a Dataframes de Pandas para eventualmente poblar con éstas una base de datos SQL.\n"
      ]
    },
    {
      "cell_type": "code",
      "execution_count": null,
      "id": "mpQCJumTitrv",
      "metadata": {
        "id": "mpQCJumTitrv"
      },
      "outputs": [],
      "source": [
        "df_gaiadr2 = tabla_gaiadr2.to_pandas()\n",
        "df_gaiadr2 = df_gaiadr2.rename(columns={\"SOURCE_ID\": \"source_id\"})\n",
        "df_gaiadr2[\"ruwe\"] = tabla_ruwe_dr2[\"ruwe\"]"
      ]
    },
    {
      "cell_type": "code",
      "execution_count": null,
      "id": "Rraqx8w1qYAV",
      "metadata": {
        "id": "Rraqx8w1qYAV"
      },
      "outputs": [],
      "source": [
        "df_gaiadr2"
      ]
    },
    {
      "cell_type": "code",
      "execution_count": null,
      "id": "DRsBo3f4y0T0",
      "metadata": {
        "id": "DRsBo3f4y0T0"
      },
      "outputs": [],
      "source": [
        "df_gaiadr3 = tabla_gaiadr3.to_pandas()\n",
        "df_gaiadr3 = df_gaiadr3.rename(columns={\"SOURCE_ID\": \"source_id\"})"
      ]
    },
    {
      "cell_type": "code",
      "execution_count": null,
      "id": "ZFXgFNAfy3x8",
      "metadata": {
        "id": "ZFXgFNAfy3x8"
      },
      "outputs": [],
      "source": [
        "df_gaiadr3"
      ]
    },
    {
      "cell_type": "markdown",
      "id": "PlNgl-cHiwUL",
      "metadata": {
        "id": "PlNgl-cHiwUL"
      },
      "source": [
        "# SQL\n",
        "\n",
        "Acto seguido, se define una función que permitirá la elaboración de tablas tipo SQL a partir de los Dataframes resultantes del paso anterior. Dicha función es ejecutada para DR2 y DR3, a fin de poder realizar consultas y gráficos."
      ]
    },
    {
      "cell_type": "code",
      "execution_count": null,
      "id": "tcRRIcz9iuuJ",
      "metadata": {
        "id": "tcRRIcz9iuuJ"
      },
      "outputs": [],
      "source": [
        "# Función para crear las tablas de gaia\n",
        "def crear_tabla(tabla, nombre_tabla, db_name):\n",
        "  \"\"\"\n",
        "  Esta función construye...\n",
        "\n",
        "  \"\"\"\n",
        "  db = sqlite3.connect(db_name)\n",
        "  cur = db.cursor()\n",
        "\n",
        "  ############################\n",
        "\n",
        "  cur.execute(f\"\"\"\n",
        "        CREATE TABLE {nombre_tabla} (\n",
        "            source_id INTEGER PRIMARY KEY AUTOINCREMENT,\n",
        "            ra REAL,\n",
        "            dec REAL,\n",
        "            parallax REAL,\n",
        "            pmra REAL,\n",
        "            pmdec REAL,\n",
        "            phot_g_mean_mag REAL,\n",
        "            phot_bp_mean_mag REAL,\n",
        "            phot_rp_mean_mag REAL,\n",
        "            ruwe REAL\n",
        "        );\n",
        "    \"\"\")\n",
        "\n",
        "  ####################################################\n",
        "  for i, row in tabla.iterrows():\n",
        "        cur.execute(f\"\"\"\n",
        "            INSERT OR IGNORE INTO {nombre_tabla} (source_id, ra, dec, parallax, pmra, pmdec, phot_g_mean_mag, phot_bp_mean_mag, phot_rp_mean_mag, ruwe)\n",
        "            VALUES (?, ?, ?, ?, ?, ?, ?, ? ,?, ?);\n",
        "        \"\"\", (row['source_id'], row['ra'], row['dec'], row['parallax'], row['pmra'], row['pmdec'], row['phot_g_mean_mag'], row['phot_bp_mean_mag'], row['phot_rp_mean_mag'], row['ruwe']))\n",
        "\n",
        "  db.commit()\n",
        "\n",
        "  # Verificación:\n",
        "  res = cur.execute(f\"PRAGMA table_info({nombre_tabla})\")\n",
        "  if res.fetchall() != []:\n",
        "    print(\"Tabla creada correctamente\")\n",
        "    print(res.fetchall())\n",
        "  else:\n",
        "    print(\"Error al crear la tabla\")\n",
        "\n",
        "  db.close()"
      ]
    },
    {
      "cell_type": "code",
      "execution_count": null,
      "id": "cfD66bHsjLJ6",
      "metadata": {
        "id": "cfD66bHsjLJ6"
      },
      "outputs": [],
      "source": [
        "#Creación de tablas con la función\n",
        "\n",
        "crear_tabla(df_gaiadr2, 'gaiadr2', 'gaiadr2.db')"
      ]
    },
    {
      "cell_type": "code",
      "execution_count": null,
      "id": "7TIN0Uqp2ZGC",
      "metadata": {
        "id": "7TIN0Uqp2ZGC"
      },
      "outputs": [],
      "source": [
        "crear_tabla(df_gaiadr3, 'gaiadr3', 'gaiadr3.db')"
      ]
    },
    {
      "cell_type": "markdown",
      "id": "-tukL3e9iyqX",
      "metadata": {
        "id": "-tukL3e9iyqX"
      },
      "source": [
        "# Querys SQL\n",
        "\n"
      ]
    },
    {
      "cell_type": "code",
      "execution_count": null,
      "id": "tNO_83uqwNlf",
      "metadata": {
        "id": "tNO_83uqwNlf"
      },
      "outputs": [],
      "source": [
        "db = sqlite3.connect('gaiadr2.db')\n",
        "cur = db.cursor()\n",
        "cur.execute(\"ATTACH DATABASE 'gaiadr3.db' AS gaiadr3;\")"
      ]
    },
    {
      "cell_type": "code",
      "execution_count": null,
      "id": "PFO7hXq2i2Af",
      "metadata": {
        "id": "PFO7hXq2i2Af"
      },
      "outputs": [],
      "source": [
        "res = cur.execute(f\"\"\"PRAGMA table_info(gaiadr2)\"\"\")\n",
        "res.fetchall()"
      ]
    },
    {
      "cell_type": "code",
      "execution_count": null,
      "id": "0o2KxIfnrfw1",
      "metadata": {
        "id": "0o2KxIfnrfw1"
      },
      "outputs": [],
      "source": [
        "query0 = cur.execute(f\"\"\"SELECT COUNT(*) FROM gaiadr2\"\"\")\n",
        "query0.fetchall()"
      ]
    },
    {
      "cell_type": "code",
      "execution_count": null,
      "id": "UrO5hAQ2UktJ",
      "metadata": {
        "id": "UrO5hAQ2UktJ"
      },
      "outputs": [],
      "source": [
        "query1= cur.execute(f\"\"\"SELECT COUNT(*) FROM\n",
        "                      (SELECT gaiadr2.source_id AS source_id_gaiadr2,\n",
        "                      gaiadr3.source_id AS source_id_gaiadr3 FROM gaiadr2\n",
        "                      JOIN gaiadr3 ON gaiadr2.source_id=gaiadr3.source_id)\"\"\")\n",
        "query1.fetchall()"
      ]
    },
    {
      "cell_type": "code",
      "execution_count": null,
      "id": "MXQxmqJbUoRN",
      "metadata": {
        "id": "MXQxmqJbUoRN"
      },
      "outputs": [],
      "source": [
        "query2= cur.execute(f\"\"\"SELECT ROW_NUMBER() OVER(ORDER BY gaiadr2.source_id) AS row_number,\n",
        "                          gaiadr2.source_id AS source_id_gaiadr2,\n",
        "                          gaiadr3.source_id AS source_id_gaiadr3\n",
        "                        FROM gaiadr2\n",
        "                        JOIN gaiadr3\n",
        "                        ON gaiadr2.source_id = gaiadr3.source_id;\"\"\")\n",
        "\n",
        "rows = query2.fetchall()\n",
        "for row in rows:\n",
        "    print(f\"Numero de Columna: {row[0]}, GAIADR2 Source ID: {row[1]}, GAIADR3 Source ID: {row[2]}\")"
      ]
    },
    {
      "cell_type": "code",
      "execution_count": null,
      "id": "r7YRyEJhUvT2",
      "metadata": {
        "id": "r7YRyEJhUvT2"
      },
      "outputs": [],
      "source": [
        "query3 = cur.execute(\"\"\"SELECT COUNT(*) AS n FROM (SELECT gaiadr2.source_id, gaiadr2.phot_rp_mean_mag FROM gaiadr2\n",
        "                        JOIN gaiadr3 ON gaiadr2.source_id = gaiadr3.source_id\n",
        "                        WHERE gaiadr2.phot_rp_mean_mag < 20)\"\"\")\n",
        "query3.fetchall()"
      ]
    },
    {
      "cell_type": "code",
      "source": [
        "query4 = cur.execute(\"\"\"CREATE TABLE filtro_dr22 AS SELECT * FROM gaiadr2 WHERE gaiadr2.ruwe < 1.4 ORDER BY ruwe DESC\"\"\")\n",
        "query4.fetchall()"
      ],
      "metadata": {
        "id": "qDwGQxl3UmIw"
      },
      "id": "qDwGQxl3UmIw",
      "execution_count": null,
      "outputs": []
    },
    {
      "cell_type": "markdown",
      "id": "7AMuHx_Fi2wH",
      "metadata": {
        "id": "7AMuHx_Fi2wH"
      },
      "source": [
        "# Gráficos"
      ]
    },
    {
      "cell_type": "code",
      "execution_count": null,
      "id": "4Ap29a82xgmN",
      "metadata": {
        "id": "4Ap29a82xgmN"
      },
      "outputs": [],
      "source": [
        "plt.style.use('dark_background')"
      ]
    },
    {
      "cell_type": "code",
      "execution_count": null,
      "id": "3p-QWJdjWgBb",
      "metadata": {
        "id": "3p-QWJdjWgBb"
      },
      "outputs": [],
      "source": [
        "# Histograma de ...\n",
        "nan_count_g = df_gaiadr2['phot_g_mean_mag'].isna().sum()\n",
        "print(nan_count_g)\n",
        "nan_count_bp = df_gaiadr2['phot_bp_mean_mag'].isna().sum()\n",
        "print(nan_count_bp)\n",
        "\n",
        "plt.hist(df_gaiadr2['phot_bp_mean_mag'],bins=100)\n",
        "plt.xlim(16,24)\n",
        "plt.axvline(20,color='red',linestyle='--')\n",
        "plt.xlabel('Magnitud BP')\n",
        "plt.ylabel('Frecuencia')\n",
        "plt.show()"
      ]
    },
    {
      "cell_type": "code",
      "source": [
        "#Variables (DR2)\n",
        "ruwe_dr2 = df_gaiadr2['ruwe']\n",
        "pmra_dr2 = df_gaiadr2['pmra']\n",
        "pmdec_dr2 = df_gaiadr2['pmdec']"
      ],
      "metadata": {
        "id": "wDAOB9_BNH6K"
      },
      "id": "wDAOB9_BNH6K",
      "execution_count": null,
      "outputs": []
    },
    {
      "cell_type": "code",
      "execution_count": null,
      "id": "RmcXwaWazmq1",
      "metadata": {
        "id": "RmcXwaWazmq1"
      },
      "outputs": [],
      "source": [
        "#Variables que utilizaremos para graficar\n",
        "ra = df_gaiadr3['ra']\n",
        "dec = df_gaiadr3['dec']\n",
        "pmra = df_gaiadr3['pmra']\n",
        "pmdec = df_gaiadr3['pmdec']\n",
        "mag_bp = df_gaiadr3['phot_bp_mean_mag']\n",
        "mag_rp = df_gaiadr3['phot_rp_mean_mag']\n",
        "mag_g = df_gaiadr3['phot_g_mean_mag']\n",
        "ruwe_dr3 = df_gaiadr3['ruwe']"
      ]
    },
    {
      "cell_type": "code",
      "execution_count": null,
      "id": "8xxyKZ2asCh0",
      "metadata": {
        "id": "8xxyKZ2asCh0"
      },
      "outputs": [],
      "source": [
        "fig = plt.figure(figsize=(14,6))\n",
        "#fig.subplots_adjust(left=0.1, bottom=0.1, top=0.97, right =0.97)\n",
        "\n",
        "ax1 = fig.add_subplot(121)\n",
        "\n",
        "ax1.scatter(ra, dec, c='cyan', marker='*',s=1, edgecolors= \"none\") #c=brillo, cmap='plasma',s=(1/brillo)*40)\n",
        "ax1.scatter(81.28, -69.78, marker=\"+\", facecolor=\"red\",label='Centro aparente', s=40)\n",
        "ax1.set_xlabel(\"RA\")\n",
        "ax1.set_ylabel(\"DEC\")\n",
        "ax1.set_title(\" ra vs dec de la Gran Nube de Magallanes\")\n",
        "ax1.grid(ls='--', alpha=0.3)\n",
        "ax1.legend()\n",
        "\n",
        "ax2= fig.add_subplot(122)\n",
        "\n",
        "ax2.scatter(pmra, pmdec, c='cyan', marker='*',s=1, edgecolors= \"none\") #c=brillo, cmap='plasma',s=(1/brillo)*40)\n",
        "ax2.set_xlabel(\"pmra\")\n",
        "ax2.set_ylabel(\"pmdec\")\n",
        "ax2.set_title(\"pmra vs pmdec de la Gran Nube de Magallanes\")\n",
        "ax2.grid(ls='--', alpha=0.3)\n",
        "\n",
        "plt.show()"
      ]
    },
    {
      "cell_type": "code",
      "source": [
        "#Histograma de RUWE (DR2)\n",
        "plt.hist(ruwe_dr2, bins = 500)\n",
        "plt.axvline(1.4, color = 'red')\n",
        "plt.axhline(10000, color = 'blue')\n",
        "plt.xlim(0,6)\n",
        "plt.show()"
      ],
      "metadata": {
        "id": "XiYJqMYvNRfK"
      },
      "id": "XiYJqMYvNRfK",
      "execution_count": null,
      "outputs": []
    },
    {
      "cell_type": "code",
      "source": [
        "#Histograma de RUWE (DR3)\n",
        "plt.hist(ruwe_dr3, bins = 500)\n",
        "plt.axvline(1.4, color = 'red')\n",
        "plt.axhline(5000, color = 'blue')\n",
        "plt.xlim(0,6)\n",
        "plt.show()"
      ],
      "metadata": {
        "id": "dxC_KcVbN8Hd"
      },
      "id": "dxC_KcVbN8Hd",
      "execution_count": null,
      "outputs": []
    },
    {
      "cell_type": "code",
      "execution_count": null,
      "id": "8kgE4Ftw5Vrr",
      "metadata": {
        "id": "8kgE4Ftw5Vrr"
      },
      "outputs": [],
      "source": [
        "#Histograma 2D\n",
        "\n",
        "plt.hist2d(ra, dec, bins = 100)\n",
        "plt.title(\"Histograma 2D de RA vs DEC de la Gran Nube de Magallanes\")\n",
        "plt.xlabel(\"RA\")\n",
        "plt.ylabel(\"DEC\")\n",
        "plt.show()"
      ]
    },
    {
      "cell_type": "code",
      "source": [
        "#Histograma 2D (movimientos propios)\n",
        "\n",
        "plt.hist2d(pmra, pmdec, bins = 100)\n",
        "plt.show()"
      ],
      "metadata": {
        "id": "EZ6aIB4ECFpJ"
      },
      "id": "EZ6aIB4ECFpJ",
      "execution_count": null,
      "outputs": []
    },
    {
      "cell_type": "markdown",
      "id": "pt6mQfUcz3AC",
      "metadata": {
        "id": "pt6mQfUcz3AC"
      },
      "source": [
        "## Diagrama color magnitud test\n",
        "BP-RP vs G"
      ]
    },
    {
      "cell_type": "code",
      "execution_count": null,
      "id": "C7i5tuWLz39b",
      "metadata": {
        "id": "C7i5tuWLz39b"
      },
      "outputs": [],
      "source": [
        "#añadir errorbars y colorbars\n",
        "\n",
        "fig = plt.figure(1,figsize=(6,6))\n",
        "ax1= fig.add_subplot(111)\n",
        "ax1.scatter(mag_bp - mag_rp, mag_g,c='darkred',marker='*',s=10, edgecolors= \"none\") #c=brillo, cmap='plasma',s=(1/brillo)*40)\n",
        "#ax1.scatter((mag_bp-mag_rp)[i], mag_g[i],marker=\"*\",edgecolor=\"none\", facecolor=\"red\",s=10)\n",
        "ax1.set_xlabel(\"BP-RP\")\n",
        "ax1.set_ylabel(\"G\")\n",
        "ax1.set_title(\"Diagrama color magnitud Gran Nubre de Magallanes\")\n",
        "ax1.grid(ls='--', alpha=0.3)\n",
        "#plt.ylim(16,21.5)\n",
        "plt.gca().invert_yaxis()\n",
        "\n",
        "plt.show()"
      ]
    }
  ],
  "metadata": {
    "colab": {
      "provenance": []
    },
    "kernelspec": {
      "display_name": "Python 3 (ipykernel)",
      "language": "python",
      "name": "python3"
    },
    "language_info": {
      "codemirror_mode": {
        "name": "ipython",
        "version": 3
      },
      "file_extension": ".py",
      "mimetype": "text/x-python",
      "name": "python",
      "nbconvert_exporter": "python",
      "pygments_lexer": "ipython3",
      "version": "3.11.5"
    }
  },
  "nbformat": 4,
  "nbformat_minor": 5
}